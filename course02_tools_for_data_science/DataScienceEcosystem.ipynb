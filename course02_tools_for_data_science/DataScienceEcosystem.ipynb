{
 "cells": [
  {
   "cell_type": "markdown",
   "id": "3bfea472-afcd-44f7-8ae3-31f37fbee01b",
   "metadata": {},
   "source": [
    "# Data Science Tools and Ecosystem"
   ]
  },
  {
   "cell_type": "markdown",
   "id": "989b0d3a-33c3-4daf-af4e-93848cf18626",
   "metadata": {},
   "source": [
    "In this notebook, Data Science Tools and Ecosystem are summarized."
   ]
  },
  {
   "cell_type": "markdown",
   "id": "7d0e8064-1524-4fb6-942e-105725870bc7",
   "metadata": {},
   "source": [
    "**Objectives:**\n",
    "- List some popular languages used by data scientists.\n",
    "- List some libraries commonly used by data scientists.\n",
    "- Demonstrating how to do basic arithmetic in Python with some examples."
   ]
  },
  {
   "cell_type": "markdown",
   "id": "b3ae222a-5acb-4c50-940d-29ee54d5c095",
   "metadata": {},
   "source": [
    "Some of the popular languages that Data Scientists use are:\n",
    "1. Python\n",
    "2. R\n",
    "3. SQL"
   ]
  },
  {
   "cell_type": "markdown",
   "id": "45165162-9c3d-43bd-9f80-3eb00e200c2a",
   "metadata": {},
   "source": [
    "Some of the commonly used libraries used by Data Scientists include:\n",
    "1. Pandas\n",
    "2. NumPy\n",
    "3. Scikit-Learn"
   ]
  },
  {
   "cell_type": "markdown",
   "id": "3feedf72-c3f3-4233-b259-bf54a5fda86b",
   "metadata": {},
   "source": [
    "|Data Science Tools|\n",
    "|-|\n",
    "|RStudio|\n",
    "|JupyterLab|\n",
    "|Spyder|"
   ]
  },
  {
   "cell_type": "markdown",
   "id": "8afb0733-15c2-4e13-b49d-77c27a83838c",
   "metadata": {},
   "source": [
    "### Below are a few examples of evaluating arithmetic expressions in Python"
   ]
  },
  {
   "cell_type": "code",
   "execution_count": 3,
   "id": "1bbe7c3d-64da-4805-9d94-c0f3ad7f29f2",
   "metadata": {},
   "outputs": [
    {
     "data": {
      "text/plain": [
       "17"
      ]
     },
     "execution_count": 3,
     "metadata": {},
     "output_type": "execute_result"
    }
   ],
   "source": [
    "# This is a simple arithmetic expression to multiply then add integers.\n",
    "(3*4)+5"
   ]
  },
  {
   "cell_type": "code",
   "execution_count": 4,
   "id": "d83c7346-06eb-427d-aab1-2df131d13b85",
   "metadata": {},
   "outputs": [
    {
     "data": {
      "text/plain": [
       "3.3333333333333335"
      ]
     },
     "execution_count": 4,
     "metadata": {},
     "output_type": "execute_result"
    }
   ],
   "source": [
    "# This will convert 200 minutes to hours by diving by 60.\n",
    "200/60"
   ]
  },
  {
   "cell_type": "markdown",
   "id": "b20fa649-16f2-4b6c-a4f6-5b1d5dd43be7",
   "metadata": {},
   "source": []
  },
  {
   "cell_type": "markdown",
   "id": "fb4dcf97-dc11-4066-9e31-7e4dd721f0d7",
   "metadata": {},
   "source": [
    "## Author\n",
    "Micaiah Sinnadurai"
   ]
  }
 ],
 "metadata": {
  "kernelspec": {
   "display_name": "Python 3 (ipykernel)",
   "language": "python",
   "name": "python3"
  },
  "language_info": {
   "codemirror_mode": {
    "name": "ipython",
    "version": 3
   },
   "file_extension": ".py",
   "mimetype": "text/x-python",
   "name": "python",
   "nbconvert_exporter": "python",
   "pygments_lexer": "ipython3",
   "version": "3.12.8"
  }
 },
 "nbformat": 4,
 "nbformat_minor": 5
}
